{
 "cells": [
  {
   "cell_type": "markdown",
   "metadata": {},
   "source": [
    "# NLP Basic Assignment\n",
    "## 과제 : spam.csv를 활용하여 유의미한 해석을 도출해주세요!"
   ]
  },
  {
   "cell_type": "markdown",
   "metadata": {},
   "source": [
    "- 제출자: 20기 황태연\n",
    "- 제출 일자: 2023.09.05. (화)"
   ]
  },
  {
   "cell_type": "code",
   "execution_count": 4,
   "metadata": {},
   "outputs": [],
   "source": [
    "import pandas as pd"
   ]
  },
  {
   "cell_type": "markdown",
   "metadata": {},
   "source": [
    "## Load Data\n",
    "- 보시면 아시다시피 spam.csv는 라벨이 있는 데이터입니다.\n",
    "- 7주차 주제가 텍스트 기초인만큼 텍스트만 활용하셔도 되고 라벨까지 활용하셔서 모델을 돌려보셔도 좋습니다."
   ]
  },
  {
   "cell_type": "code",
   "execution_count": 2,
   "metadata": {},
   "outputs": [],
   "source": [
    "spam = pd.read_csv('spam.csv')"
   ]
  },
  {
   "cell_type": "code",
   "execution_count": 6,
   "metadata": {},
   "outputs": [
    {
     "data": {
      "text/html": [
       "<div>\n",
       "<style scoped>\n",
       "    .dataframe tbody tr th:only-of-type {\n",
       "        vertical-align: middle;\n",
       "    }\n",
       "\n",
       "    .dataframe tbody tr th {\n",
       "        vertical-align: top;\n",
       "    }\n",
       "\n",
       "    .dataframe thead th {\n",
       "        text-align: right;\n",
       "    }\n",
       "</style>\n",
       "<table border=\"1\" class=\"dataframe\">\n",
       "  <thead>\n",
       "    <tr style=\"text-align: right;\">\n",
       "      <th></th>\n",
       "      <th>v1</th>\n",
       "      <th>v2</th>\n",
       "    </tr>\n",
       "  </thead>\n",
       "  <tbody>\n",
       "    <tr>\n",
       "      <th>0</th>\n",
       "      <td>ham</td>\n",
       "      <td>Go until jurong point, crazy.. Available only ...</td>\n",
       "    </tr>\n",
       "    <tr>\n",
       "      <th>1</th>\n",
       "      <td>ham</td>\n",
       "      <td>Ok lar... Joking wif u oni...</td>\n",
       "    </tr>\n",
       "    <tr>\n",
       "      <th>2</th>\n",
       "      <td>spam</td>\n",
       "      <td>Free entry in 2 a wkly comp to win FA Cup fina...</td>\n",
       "    </tr>\n",
       "    <tr>\n",
       "      <th>3</th>\n",
       "      <td>ham</td>\n",
       "      <td>U dun say so early hor... U c already then say...</td>\n",
       "    </tr>\n",
       "    <tr>\n",
       "      <th>4</th>\n",
       "      <td>ham</td>\n",
       "      <td>Nah I don't think he goes to usf, he lives aro...</td>\n",
       "    </tr>\n",
       "    <tr>\n",
       "      <th>...</th>\n",
       "      <td>...</td>\n",
       "      <td>...</td>\n",
       "    </tr>\n",
       "    <tr>\n",
       "      <th>5567</th>\n",
       "      <td>spam</td>\n",
       "      <td>This is the 2nd time we have tried 2 contact u...</td>\n",
       "    </tr>\n",
       "    <tr>\n",
       "      <th>5568</th>\n",
       "      <td>ham</td>\n",
       "      <td>Will Ì_ b going to esplanade fr home?</td>\n",
       "    </tr>\n",
       "    <tr>\n",
       "      <th>5569</th>\n",
       "      <td>ham</td>\n",
       "      <td>Pity, * was in mood for that. So...any other s...</td>\n",
       "    </tr>\n",
       "    <tr>\n",
       "      <th>5570</th>\n",
       "      <td>ham</td>\n",
       "      <td>The guy did some bitching but I acted like i'd...</td>\n",
       "    </tr>\n",
       "    <tr>\n",
       "      <th>5571</th>\n",
       "      <td>ham</td>\n",
       "      <td>Rofl. Its true to its name</td>\n",
       "    </tr>\n",
       "  </tbody>\n",
       "</table>\n",
       "<p>5572 rows × 2 columns</p>\n",
       "</div>"
      ],
      "text/plain": [
       "        v1                                                 v2\n",
       "0      ham  Go until jurong point, crazy.. Available only ...\n",
       "1      ham                      Ok lar... Joking wif u oni...\n",
       "2     spam  Free entry in 2 a wkly comp to win FA Cup fina...\n",
       "3      ham  U dun say so early hor... U c already then say...\n",
       "4      ham  Nah I don't think he goes to usf, he lives aro...\n",
       "...    ...                                                ...\n",
       "5567  spam  This is the 2nd time we have tried 2 contact u...\n",
       "5568   ham              Will Ì_ b going to esplanade fr home?\n",
       "5569   ham  Pity, * was in mood for that. So...any other s...\n",
       "5570   ham  The guy did some bitching but I acted like i'd...\n",
       "5571   ham                         Rofl. Its true to its name\n",
       "\n",
       "[5572 rows x 2 columns]"
      ]
     },
     "execution_count": 6,
     "metadata": {},
     "output_type": "execute_result"
    }
   ],
   "source": [
    "spam"
   ]
  },
  {
   "cell_type": "code",
   "execution_count": 14,
   "metadata": {},
   "outputs": [
    {
     "data": {
      "text/plain": [
       "\"FreeMsg Hey there darling it's been 3 week's now and no word back! I'd like some fun you up for it still? Tb ok! XxX std chgs to send, å£1.50 to rcv\""
      ]
     },
     "execution_count": 14,
     "metadata": {},
     "output_type": "execute_result"
    }
   ],
   "source": [
    "spam.iloc[5]['v2']"
   ]
  },
  {
   "cell_type": "markdown",
   "metadata": {},
   "source": [
    "- 주어진 데이터의 v1 열에는 spam 여부를 알려주고 있습니다. (**ham**: 정상적인 메일, **spam**: 스팸 메일)\n",
    "- 주어진 데이터의 v2 열에는 메일의 메시지를 담고 있습니다."
   ]
  },
  {
   "cell_type": "markdown",
   "metadata": {},
   "source": [
    "## Tokenizing\n"
   ]
  },
  {
   "cell_type": "code",
   "execution_count": 9,
   "metadata": {},
   "outputs": [],
   "source": [
    "import nltk"
   ]
  },
  {
   "cell_type": "code",
   "execution_count": 15,
   "metadata": {},
   "outputs": [
    {
     "name": "stderr",
     "output_type": "stream",
     "text": [
      "[nltk_data] Downloading package punkt to\n",
      "[nltk_data]     C:\\Users\\Poco\\AppData\\Roaming\\nltk_data...\n",
      "[nltk_data]   Package punkt is already up-to-date!\n"
     ]
    },
    {
     "data": {
      "text/plain": [
       "['FreeMsg',\n",
       " 'Hey',\n",
       " 'there',\n",
       " 'darling',\n",
       " 'it',\n",
       " \"'s\",\n",
       " 'been',\n",
       " '3',\n",
       " 'week',\n",
       " \"'s\",\n",
       " 'now',\n",
       " 'and',\n",
       " 'no',\n",
       " 'word',\n",
       " 'back',\n",
       " '!',\n",
       " 'I',\n",
       " \"'d\",\n",
       " 'like',\n",
       " 'some',\n",
       " 'fun',\n",
       " 'you',\n",
       " 'up',\n",
       " 'for',\n",
       " 'it',\n",
       " 'still',\n",
       " '?',\n",
       " 'Tb',\n",
       " 'ok',\n",
       " '!',\n",
       " 'XxX',\n",
       " 'std',\n",
       " 'chgs',\n",
       " 'to',\n",
       " 'send',\n",
       " ',',\n",
       " 'å£1.50',\n",
       " 'to',\n",
       " 'rcv']"
      ]
     },
     "execution_count": 15,
     "metadata": {},
     "output_type": "execute_result"
    }
   ],
   "source": [
    "# 예시 코드 코드\n",
    "from nltk.tokenize import word_tokenize\n",
    "\n",
    "nltk.download('punkt')\n",
    "word_tokenize(spam.iloc[5]['v2'])"
   ]
  },
  {
   "cell_type": "code",
   "execution_count": 32,
   "metadata": {},
   "outputs": [
    {
     "data": {
      "text/html": [
       "<div>\n",
       "<style scoped>\n",
       "    .dataframe tbody tr th:only-of-type {\n",
       "        vertical-align: middle;\n",
       "    }\n",
       "\n",
       "    .dataframe tbody tr th {\n",
       "        vertical-align: top;\n",
       "    }\n",
       "\n",
       "    .dataframe thead th {\n",
       "        text-align: right;\n",
       "    }\n",
       "</style>\n",
       "<table border=\"1\" class=\"dataframe\">\n",
       "  <thead>\n",
       "    <tr style=\"text-align: right;\">\n",
       "      <th></th>\n",
       "      <th>v1</th>\n",
       "      <th>v2</th>\n",
       "    </tr>\n",
       "  </thead>\n",
       "  <tbody>\n",
       "    <tr>\n",
       "      <th>0</th>\n",
       "      <td>ham</td>\n",
       "      <td>[Go, until, jurong, point, ,, crazy, .., Avail...</td>\n",
       "    </tr>\n",
       "    <tr>\n",
       "      <th>1</th>\n",
       "      <td>ham</td>\n",
       "      <td>[Ok, lar, ..., Joking, wif, u, oni, ...]</td>\n",
       "    </tr>\n",
       "    <tr>\n",
       "      <th>2</th>\n",
       "      <td>spam</td>\n",
       "      <td>[Free, entry, in, 2, a, wkly, comp, to, win, F...</td>\n",
       "    </tr>\n",
       "    <tr>\n",
       "      <th>3</th>\n",
       "      <td>ham</td>\n",
       "      <td>[U, dun, say, so, early, hor, ..., U, c, alrea...</td>\n",
       "    </tr>\n",
       "    <tr>\n",
       "      <th>4</th>\n",
       "      <td>ham</td>\n",
       "      <td>[Nah, I, do, n't, think, he, goes, to, usf, ,,...</td>\n",
       "    </tr>\n",
       "    <tr>\n",
       "      <th>...</th>\n",
       "      <td>...</td>\n",
       "      <td>...</td>\n",
       "    </tr>\n",
       "    <tr>\n",
       "      <th>5567</th>\n",
       "      <td>spam</td>\n",
       "      <td>[This, is, the, 2nd, time, we, have, tried, 2,...</td>\n",
       "    </tr>\n",
       "    <tr>\n",
       "      <th>5568</th>\n",
       "      <td>ham</td>\n",
       "      <td>[Will, Ì_, b, going, to, esplanade, fr, home, ?]</td>\n",
       "    </tr>\n",
       "    <tr>\n",
       "      <th>5569</th>\n",
       "      <td>ham</td>\n",
       "      <td>[Pity, ,, *, was, in, mood, for, that, ., So, ...</td>\n",
       "    </tr>\n",
       "    <tr>\n",
       "      <th>5570</th>\n",
       "      <td>ham</td>\n",
       "      <td>[The, guy, did, some, bitching, but, I, acted,...</td>\n",
       "    </tr>\n",
       "    <tr>\n",
       "      <th>5571</th>\n",
       "      <td>ham</td>\n",
       "      <td>[Rofl, ., Its, true, to, its, name]</td>\n",
       "    </tr>\n",
       "  </tbody>\n",
       "</table>\n",
       "<p>5572 rows × 2 columns</p>\n",
       "</div>"
      ],
      "text/plain": [
       "        v1                                                 v2\n",
       "0      ham  [Go, until, jurong, point, ,, crazy, .., Avail...\n",
       "1      ham           [Ok, lar, ..., Joking, wif, u, oni, ...]\n",
       "2     spam  [Free, entry, in, 2, a, wkly, comp, to, win, F...\n",
       "3      ham  [U, dun, say, so, early, hor, ..., U, c, alrea...\n",
       "4      ham  [Nah, I, do, n't, think, he, goes, to, usf, ,,...\n",
       "...    ...                                                ...\n",
       "5567  spam  [This, is, the, 2nd, time, we, have, tried, 2,...\n",
       "5568   ham   [Will, Ì_, b, going, to, esplanade, fr, home, ?]\n",
       "5569   ham  [Pity, ,, *, was, in, mood, for, that, ., So, ...\n",
       "5570   ham  [The, guy, did, some, bitching, but, I, acted,...\n",
       "5571   ham                [Rofl, ., Its, true, to, its, name]\n",
       "\n",
       "[5572 rows x 2 columns]"
      ]
     },
     "execution_count": 32,
     "metadata": {},
     "output_type": "execute_result"
    }
   ],
   "source": [
    "df = spam.copy(deep=True)\n",
    "for i, sentence in enumerate(spam['v2']):\n",
    "    tokenized = word_tokenize(sentence)\n",
    "    df.iloc[i]['v2'] = tokenized\n",
    "df"
   ]
  },
  {
   "cell_type": "markdown",
   "metadata": {},
   "source": [
    "## Embedding\n",
    "\n",
    "- 수업에서 다룬 임베딩 방법에는 One-hot encoding, CBOW, Skip-gram 등이 있었습니다. 다양한 시도와 '비교' 결과를 함께 적어주세요! 파라미터를 조정해가는 과정도 해석에 도움이 될 수 있겠죠 :)"
   ]
  },
  {
   "cell_type": "markdown",
   "metadata": {},
   "source": [
    "- 먼저 v1의 ham을 0, spam을 1로 대체하겠습니다."
   ]
  },
  {
   "cell_type": "code",
   "execution_count": 33,
   "metadata": {},
   "outputs": [
    {
     "data": {
      "text/html": [
       "<div>\n",
       "<style scoped>\n",
       "    .dataframe tbody tr th:only-of-type {\n",
       "        vertical-align: middle;\n",
       "    }\n",
       "\n",
       "    .dataframe tbody tr th {\n",
       "        vertical-align: top;\n",
       "    }\n",
       "\n",
       "    .dataframe thead th {\n",
       "        text-align: right;\n",
       "    }\n",
       "</style>\n",
       "<table border=\"1\" class=\"dataframe\">\n",
       "  <thead>\n",
       "    <tr style=\"text-align: right;\">\n",
       "      <th></th>\n",
       "      <th>v1</th>\n",
       "      <th>v2</th>\n",
       "    </tr>\n",
       "  </thead>\n",
       "  <tbody>\n",
       "    <tr>\n",
       "      <th>0</th>\n",
       "      <td>0</td>\n",
       "      <td>[Go, until, jurong, point, ,, crazy, .., Avail...</td>\n",
       "    </tr>\n",
       "    <tr>\n",
       "      <th>1</th>\n",
       "      <td>0</td>\n",
       "      <td>[Ok, lar, ..., Joking, wif, u, oni, ...]</td>\n",
       "    </tr>\n",
       "    <tr>\n",
       "      <th>2</th>\n",
       "      <td>1</td>\n",
       "      <td>[Free, entry, in, 2, a, wkly, comp, to, win, F...</td>\n",
       "    </tr>\n",
       "    <tr>\n",
       "      <th>3</th>\n",
       "      <td>0</td>\n",
       "      <td>[U, dun, say, so, early, hor, ..., U, c, alrea...</td>\n",
       "    </tr>\n",
       "    <tr>\n",
       "      <th>4</th>\n",
       "      <td>0</td>\n",
       "      <td>[Nah, I, do, n't, think, he, goes, to, usf, ,,...</td>\n",
       "    </tr>\n",
       "    <tr>\n",
       "      <th>...</th>\n",
       "      <td>...</td>\n",
       "      <td>...</td>\n",
       "    </tr>\n",
       "    <tr>\n",
       "      <th>5567</th>\n",
       "      <td>1</td>\n",
       "      <td>[This, is, the, 2nd, time, we, have, tried, 2,...</td>\n",
       "    </tr>\n",
       "    <tr>\n",
       "      <th>5568</th>\n",
       "      <td>0</td>\n",
       "      <td>[Will, Ì_, b, going, to, esplanade, fr, home, ?]</td>\n",
       "    </tr>\n",
       "    <tr>\n",
       "      <th>5569</th>\n",
       "      <td>0</td>\n",
       "      <td>[Pity, ,, *, was, in, mood, for, that, ., So, ...</td>\n",
       "    </tr>\n",
       "    <tr>\n",
       "      <th>5570</th>\n",
       "      <td>0</td>\n",
       "      <td>[The, guy, did, some, bitching, but, I, acted,...</td>\n",
       "    </tr>\n",
       "    <tr>\n",
       "      <th>5571</th>\n",
       "      <td>0</td>\n",
       "      <td>[Rofl, ., Its, true, to, its, name]</td>\n",
       "    </tr>\n",
       "  </tbody>\n",
       "</table>\n",
       "<p>5572 rows × 2 columns</p>\n",
       "</div>"
      ],
      "text/plain": [
       "      v1                                                 v2\n",
       "0      0  [Go, until, jurong, point, ,, crazy, .., Avail...\n",
       "1      0           [Ok, lar, ..., Joking, wif, u, oni, ...]\n",
       "2      1  [Free, entry, in, 2, a, wkly, comp, to, win, F...\n",
       "3      0  [U, dun, say, so, early, hor, ..., U, c, alrea...\n",
       "4      0  [Nah, I, do, n't, think, he, goes, to, usf, ,,...\n",
       "...   ..                                                ...\n",
       "5567   1  [This, is, the, 2nd, time, we, have, tried, 2,...\n",
       "5568   0   [Will, Ì_, b, going, to, esplanade, fr, home, ?]\n",
       "5569   0  [Pity, ,, *, was, in, mood, for, that, ., So, ...\n",
       "5570   0  [The, guy, did, some, bitching, but, I, acted,...\n",
       "5571   0                [Rofl, ., Its, true, to, its, name]\n",
       "\n",
       "[5572 rows x 2 columns]"
      ]
     },
     "execution_count": 33,
     "metadata": {},
     "output_type": "execute_result"
    }
   ],
   "source": [
    "df['v1'] = df['v1'].map({'ham': 0, 'spam': 1})\n",
    "df"
   ]
  },
  {
   "cell_type": "code",
   "execution_count": 23,
   "metadata": {},
   "outputs": [],
   "source": [
    "from gensim.models.word2vec import Word2Vec"
   ]
  },
  {
   "cell_type": "markdown",
   "metadata": {},
   "source": [
    "- 다음은 **CBOW** 모델을 이용하여 Embedding하는 과정입니다."
   ]
  },
  {
   "cell_type": "code",
   "execution_count": 37,
   "metadata": {},
   "outputs": [
    {
     "data": {
      "text/plain": [
       "array([ 0.17461504, -0.11225516,  0.17904866,  0.10587597,  0.04406561,\n",
       "       -0.20048538,  0.04356166, -0.02396907, -0.25862744, -0.05301462,\n",
       "        0.1400026 , -0.15034395, -0.06913327, -0.11292073,  0.04905464,\n",
       "        0.12162694, -0.07781198,  0.0378564 , -0.00419809,  0.23424022,\n",
       "        0.12190858,  0.23602445,  0.13016264, -0.23006895, -0.0335867 ,\n",
       "        0.19989906, -0.17106183, -0.00258611,  0.00042204, -0.13265987,\n",
       "       -0.01951596,  0.08070308, -0.10717758, -0.12405824, -0.11508061,\n",
       "       -0.00150742,  0.04444776, -0.00478612,  0.12589908,  0.14512569,\n",
       "       -0.04933322, -0.00186809, -0.0568903 , -0.05588645,  0.13396454,\n",
       "       -0.06786254, -0.05607125, -0.09760626, -0.01817763,  0.18679151,\n",
       "        0.08378771,  0.07449537,  0.13089335,  0.11598013,  0.0627162 ,\n",
       "        0.03599519,  0.06765975, -0.10018036, -0.13700317,  0.15634726,\n",
       "       -0.06300936, -0.04642586, -0.01974674,  0.08611065], dtype=float32)"
      ]
     },
     "execution_count": 37,
     "metadata": {},
     "output_type": "execute_result"
    }
   ],
   "source": [
    "cbow = Word2Vec(df['v2'], vector_size=64, window=5, sg=0) # sg=0: CBOW\n",
    "\n",
    "cbow.wv['Go']"
   ]
  },
  {
   "cell_type": "code",
   "execution_count": 51,
   "metadata": {},
   "outputs": [
    {
     "data": {
      "text/html": [
       "<div>\n",
       "<style scoped>\n",
       "    .dataframe tbody tr th:only-of-type {\n",
       "        vertical-align: middle;\n",
       "    }\n",
       "\n",
       "    .dataframe tbody tr th {\n",
       "        vertical-align: top;\n",
       "    }\n",
       "\n",
       "    .dataframe thead th {\n",
       "        text-align: right;\n",
       "    }\n",
       "</style>\n",
       "<table border=\"1\" class=\"dataframe\">\n",
       "  <thead>\n",
       "    <tr style=\"text-align: right;\">\n",
       "      <th></th>\n",
       "      <th>v1</th>\n",
       "      <th>v2</th>\n",
       "    </tr>\n",
       "  </thead>\n",
       "  <tbody>\n",
       "    <tr>\n",
       "      <th>0</th>\n",
       "      <td>0</td>\n",
       "      <td>[[0.17461504, -0.112255156, 0.17904866, 0.1058...</td>\n",
       "    </tr>\n",
       "    <tr>\n",
       "      <th>1</th>\n",
       "      <td>0</td>\n",
       "      <td>[[0.36491826, -0.37652797, 0.33321294, 0.52858...</td>\n",
       "    </tr>\n",
       "    <tr>\n",
       "      <th>2</th>\n",
       "      <td>1</td>\n",
       "      <td>[[0.39473972, -0.22605853, 0.4858645, 0.267811...</td>\n",
       "    </tr>\n",
       "    <tr>\n",
       "      <th>3</th>\n",
       "      <td>0</td>\n",
       "      <td>[[0.5441137, -0.5795811, 0.6321912, 0.73309, 0...</td>\n",
       "    </tr>\n",
       "    <tr>\n",
       "      <th>4</th>\n",
       "      <td>0</td>\n",
       "      <td>[[0.06601783, -0.046738744, 0.045798346, 0.076...</td>\n",
       "    </tr>\n",
       "    <tr>\n",
       "      <th>...</th>\n",
       "      <td>...</td>\n",
       "      <td>...</td>\n",
       "    </tr>\n",
       "    <tr>\n",
       "      <th>5567</th>\n",
       "      <td>1</td>\n",
       "      <td>[[0.47624964, -0.34937456, 0.49868166, 0.39225...</td>\n",
       "    </tr>\n",
       "    <tr>\n",
       "      <th>5568</th>\n",
       "      <td>0</td>\n",
       "      <td>[[0.36517927, -0.3197429, 0.33371273, 0.392063...</td>\n",
       "    </tr>\n",
       "    <tr>\n",
       "      <th>5569</th>\n",
       "      <td>0</td>\n",
       "      <td>[[0.5888483, -0.49973533, 0.5405273, 0.5929760...</td>\n",
       "    </tr>\n",
       "    <tr>\n",
       "      <th>5570</th>\n",
       "      <td>0</td>\n",
       "      <td>[[0.615889, -0.39819667, 0.71765834, 0.4097949...</td>\n",
       "    </tr>\n",
       "    <tr>\n",
       "      <th>5571</th>\n",
       "      <td>0</td>\n",
       "      <td>[[0.5691831, -0.3094303, 0.75641733, 0.4547605...</td>\n",
       "    </tr>\n",
       "  </tbody>\n",
       "</table>\n",
       "<p>5572 rows × 2 columns</p>\n",
       "</div>"
      ],
      "text/plain": [
       "      v1                                                 v2\n",
       "0      0  [[0.17461504, -0.112255156, 0.17904866, 0.1058...\n",
       "1      0  [[0.36491826, -0.37652797, 0.33321294, 0.52858...\n",
       "2      1  [[0.39473972, -0.22605853, 0.4858645, 0.267811...\n",
       "3      0  [[0.5441137, -0.5795811, 0.6321912, 0.73309, 0...\n",
       "4      0  [[0.06601783, -0.046738744, 0.045798346, 0.076...\n",
       "...   ..                                                ...\n",
       "5567   1  [[0.47624964, -0.34937456, 0.49868166, 0.39225...\n",
       "5568   0  [[0.36517927, -0.3197429, 0.33371273, 0.392063...\n",
       "5569   0  [[0.5888483, -0.49973533, 0.5405273, 0.5929760...\n",
       "5570   0  [[0.615889, -0.39819667, 0.71765834, 0.4097949...\n",
       "5571   0  [[0.5691831, -0.3094303, 0.75641733, 0.4547605...\n",
       "\n",
       "[5572 rows x 2 columns]"
      ]
     },
     "execution_count": 51,
     "metadata": {},
     "output_type": "execute_result"
    }
   ],
   "source": [
    "df_cbow = df.copy(deep=True)\n",
    "\n",
    "embedding = []\n",
    "for sentence in df['v2']:\n",
    "    embedded = [cbow.wv[word] for word in sentence if word in cbow.wv]\n",
    "    embedding.append(embedded)\n",
    "\n",
    "df_cbow['v2'] = embedding\n",
    "df_cbow"
   ]
  },
  {
   "cell_type": "code",
   "execution_count": 54,
   "metadata": {},
   "outputs": [
    {
     "name": "stdout",
     "output_type": "stream",
     "text": [
      "가장 긴 임베딩 벡터의 길이: 198\n"
     ]
    }
   ],
   "source": [
    "print('가장 긴 임베딩 벡터의 길이:', max(len(sentence) for sentence in df_cbow['v2']))"
   ]
  },
  {
   "cell_type": "markdown",
   "metadata": {},
   "source": [
    "- 모든 임베딩 벡터의 길이가 198이 되도록 설정해줍니다."
   ]
  },
  {
   "cell_type": "code",
   "execution_count": 58,
   "metadata": {},
   "outputs": [
    {
     "data": {
      "text/html": [
       "<div>\n",
       "<style scoped>\n",
       "    .dataframe tbody tr th:only-of-type {\n",
       "        vertical-align: middle;\n",
       "    }\n",
       "\n",
       "    .dataframe tbody tr th {\n",
       "        vertical-align: top;\n",
       "    }\n",
       "\n",
       "    .dataframe thead th {\n",
       "        text-align: right;\n",
       "    }\n",
       "</style>\n",
       "<table border=\"1\" class=\"dataframe\">\n",
       "  <thead>\n",
       "    <tr style=\"text-align: right;\">\n",
       "      <th></th>\n",
       "      <th>v1</th>\n",
       "      <th>v2</th>\n",
       "    </tr>\n",
       "  </thead>\n",
       "  <tbody>\n",
       "    <tr>\n",
       "      <th>0</th>\n",
       "      <td>0</td>\n",
       "      <td>[[0.17461504, -0.112255156, 0.17904866, 0.1058...</td>\n",
       "    </tr>\n",
       "    <tr>\n",
       "      <th>1</th>\n",
       "      <td>0</td>\n",
       "      <td>[[0.36491826, -0.37652797, 0.33321294, 0.52858...</td>\n",
       "    </tr>\n",
       "    <tr>\n",
       "      <th>2</th>\n",
       "      <td>1</td>\n",
       "      <td>[[0.39473972, -0.22605853, 0.4858645, 0.267811...</td>\n",
       "    </tr>\n",
       "    <tr>\n",
       "      <th>3</th>\n",
       "      <td>0</td>\n",
       "      <td>[[0.5441137, -0.5795811, 0.6321912, 0.73309, 0...</td>\n",
       "    </tr>\n",
       "    <tr>\n",
       "      <th>4</th>\n",
       "      <td>0</td>\n",
       "      <td>[[0.06601783, -0.046738744, 0.045798346, 0.076...</td>\n",
       "    </tr>\n",
       "    <tr>\n",
       "      <th>...</th>\n",
       "      <td>...</td>\n",
       "      <td>...</td>\n",
       "    </tr>\n",
       "    <tr>\n",
       "      <th>5567</th>\n",
       "      <td>1</td>\n",
       "      <td>[[0.47624964, -0.34937456, 0.49868166, 0.39225...</td>\n",
       "    </tr>\n",
       "    <tr>\n",
       "      <th>5568</th>\n",
       "      <td>0</td>\n",
       "      <td>[[0.36517927, -0.3197429, 0.33371273, 0.392063...</td>\n",
       "    </tr>\n",
       "    <tr>\n",
       "      <th>5569</th>\n",
       "      <td>0</td>\n",
       "      <td>[[0.5888483, -0.49973533, 0.5405273, 0.5929760...</td>\n",
       "    </tr>\n",
       "    <tr>\n",
       "      <th>5570</th>\n",
       "      <td>0</td>\n",
       "      <td>[[0.615889, -0.39819667, 0.71765834, 0.4097949...</td>\n",
       "    </tr>\n",
       "    <tr>\n",
       "      <th>5571</th>\n",
       "      <td>0</td>\n",
       "      <td>[[0.5691831, -0.3094303, 0.75641733, 0.4547605...</td>\n",
       "    </tr>\n",
       "  </tbody>\n",
       "</table>\n",
       "<p>5572 rows × 2 columns</p>\n",
       "</div>"
      ],
      "text/plain": [
       "      v1                                                 v2\n",
       "0      0  [[0.17461504, -0.112255156, 0.17904866, 0.1058...\n",
       "1      0  [[0.36491826, -0.37652797, 0.33321294, 0.52858...\n",
       "2      1  [[0.39473972, -0.22605853, 0.4858645, 0.267811...\n",
       "3      0  [[0.5441137, -0.5795811, 0.6321912, 0.73309, 0...\n",
       "4      0  [[0.06601783, -0.046738744, 0.045798346, 0.076...\n",
       "...   ..                                                ...\n",
       "5567   1  [[0.47624964, -0.34937456, 0.49868166, 0.39225...\n",
       "5568   0  [[0.36517927, -0.3197429, 0.33371273, 0.392063...\n",
       "5569   0  [[0.5888483, -0.49973533, 0.5405273, 0.5929760...\n",
       "5570   0  [[0.615889, -0.39819667, 0.71765834, 0.4097949...\n",
       "5571   0  [[0.5691831, -0.3094303, 0.75641733, 0.4547605...\n",
       "\n",
       "[5572 rows x 2 columns]"
      ]
     },
     "execution_count": 58,
     "metadata": {},
     "output_type": "execute_result"
    }
   ],
   "source": [
    "padding = []\n",
    "for sentence in df_cbow['v2']:\n",
    "    if len(sentence) < 198:\n",
    "        sentence = sentence + [[0.]*64]*(198 - len(sentence))\n",
    "    padding.append(sentence)\n",
    "\n",
    "df_cbow['v2'] = padding\n",
    "df_cbow"
   ]
  },
  {
   "cell_type": "markdown",
   "metadata": {},
   "source": [
    "- 다음은 **skip-gram** 모델을 이용하여 Embedding하는 과정입니다."
   ]
  },
  {
   "cell_type": "code",
   "execution_count": 38,
   "metadata": {},
   "outputs": [
    {
     "data": {
      "text/plain": [
       "array([ 0.21610375, -0.07939548,  0.3083103 ,  0.2542443 ,  0.01980864,\n",
       "       -0.21631068,  0.1466012 , -0.07620279, -0.33306426, -0.07551491,\n",
       "        0.2615391 , -0.15815543, -0.13122055, -0.14254774,  0.00431737,\n",
       "        0.16977102, -0.12908344,  0.08219767,  0.04433397,  0.33971506,\n",
       "        0.13121113,  0.38591737,  0.22857548, -0.3355557 , -0.1123373 ,\n",
       "        0.2979409 , -0.25571963,  0.02124315,  0.06669454, -0.18302669,\n",
       "       -0.07662039,  0.08809253, -0.14120649, -0.07994217, -0.15837322,\n",
       "        0.0567178 ,  0.06060111,  0.07195002,  0.2039583 ,  0.18121412,\n",
       "       -0.15022998,  0.06501244, -0.00907351, -0.09493   ,  0.0840243 ,\n",
       "       -0.0903206 , -0.03688104, -0.18633612, -0.09798368,  0.2728871 ,\n",
       "        0.17502151,  0.01511193,  0.22599283,  0.19357684,  0.0464323 ,\n",
       "        0.01248483,  0.09377052, -0.12472778, -0.1508858 ,  0.16001716,\n",
       "       -0.05947038, -0.04379879,  0.09873495,  0.08267926], dtype=float32)"
      ]
     },
     "execution_count": 38,
     "metadata": {},
     "output_type": "execute_result"
    }
   ],
   "source": [
    "skip_gram = Word2Vec(df['v2'], vector_size=64, window=5, sg=1) # sg=1: skip-gram\n",
    "\n",
    "skip_gram.wv['Go']"
   ]
  },
  {
   "cell_type": "code",
   "execution_count": 61,
   "metadata": {},
   "outputs": [
    {
     "data": {
      "text/html": [
       "<div>\n",
       "<style scoped>\n",
       "    .dataframe tbody tr th:only-of-type {\n",
       "        vertical-align: middle;\n",
       "    }\n",
       "\n",
       "    .dataframe tbody tr th {\n",
       "        vertical-align: top;\n",
       "    }\n",
       "\n",
       "    .dataframe thead th {\n",
       "        text-align: right;\n",
       "    }\n",
       "</style>\n",
       "<table border=\"1\" class=\"dataframe\">\n",
       "  <thead>\n",
       "    <tr style=\"text-align: right;\">\n",
       "      <th></th>\n",
       "      <th>v1</th>\n",
       "      <th>v2</th>\n",
       "    </tr>\n",
       "  </thead>\n",
       "  <tbody>\n",
       "    <tr>\n",
       "      <th>0</th>\n",
       "      <td>0</td>\n",
       "      <td>[[0.21610375, -0.07939548, 0.3083103, 0.254244...</td>\n",
       "    </tr>\n",
       "    <tr>\n",
       "      <th>1</th>\n",
       "      <td>0</td>\n",
       "      <td>[[0.0078469515, -0.25899208, 0.009520756, 0.22...</td>\n",
       "    </tr>\n",
       "    <tr>\n",
       "      <th>2</th>\n",
       "      <td>1</td>\n",
       "      <td>[[0.07769693, 0.065753244, 0.5814194, 0.368394...</td>\n",
       "    </tr>\n",
       "    <tr>\n",
       "      <th>3</th>\n",
       "      <td>0</td>\n",
       "      <td>[[-0.42191222, -0.36229122, 0.30826178, 0.3781...</td>\n",
       "    </tr>\n",
       "    <tr>\n",
       "      <th>4</th>\n",
       "      <td>0</td>\n",
       "      <td>[[0.22021635, -0.1840905, 0.17533225, 0.283469...</td>\n",
       "    </tr>\n",
       "    <tr>\n",
       "      <th>...</th>\n",
       "      <td>...</td>\n",
       "      <td>...</td>\n",
       "    </tr>\n",
       "    <tr>\n",
       "      <th>5567</th>\n",
       "      <td>1</td>\n",
       "      <td>[[0.250206, -0.13415644, 0.49190277, 0.3690134...</td>\n",
       "    </tr>\n",
       "    <tr>\n",
       "      <th>5568</th>\n",
       "      <td>0</td>\n",
       "      <td>[[0.23505598, -0.25596222, 0.14994644, 0.32742...</td>\n",
       "    </tr>\n",
       "    <tr>\n",
       "      <th>5569</th>\n",
       "      <td>0</td>\n",
       "      <td>[[0.29481345, -0.36580938, 0.12977646, 0.19148...</td>\n",
       "    </tr>\n",
       "    <tr>\n",
       "      <th>5570</th>\n",
       "      <td>0</td>\n",
       "      <td>[[0.30323505, -0.012514892, 0.5053642, 0.17012...</td>\n",
       "    </tr>\n",
       "    <tr>\n",
       "      <th>5571</th>\n",
       "      <td>0</td>\n",
       "      <td>[[0.43196717, -0.050937276, 0.4247616, 0.42122...</td>\n",
       "    </tr>\n",
       "  </tbody>\n",
       "</table>\n",
       "<p>5572 rows × 2 columns</p>\n",
       "</div>"
      ],
      "text/plain": [
       "      v1                                                 v2\n",
       "0      0  [[0.21610375, -0.07939548, 0.3083103, 0.254244...\n",
       "1      0  [[0.0078469515, -0.25899208, 0.009520756, 0.22...\n",
       "2      1  [[0.07769693, 0.065753244, 0.5814194, 0.368394...\n",
       "3      0  [[-0.42191222, -0.36229122, 0.30826178, 0.3781...\n",
       "4      0  [[0.22021635, -0.1840905, 0.17533225, 0.283469...\n",
       "...   ..                                                ...\n",
       "5567   1  [[0.250206, -0.13415644, 0.49190277, 0.3690134...\n",
       "5568   0  [[0.23505598, -0.25596222, 0.14994644, 0.32742...\n",
       "5569   0  [[0.29481345, -0.36580938, 0.12977646, 0.19148...\n",
       "5570   0  [[0.30323505, -0.012514892, 0.5053642, 0.17012...\n",
       "5571   0  [[0.43196717, -0.050937276, 0.4247616, 0.42122...\n",
       "\n",
       "[5572 rows x 2 columns]"
      ]
     },
     "execution_count": 61,
     "metadata": {},
     "output_type": "execute_result"
    }
   ],
   "source": [
    "df_sg = df.copy(deep=True)\n",
    "\n",
    "embedding = []\n",
    "for sentence in df['v2']:\n",
    "    embedded = [skip_gram.wv[word] for word in sentence if word in skip_gram.wv]\n",
    "    embedding.append(embedded)\n",
    "\n",
    "df_sg['v2'] = embedding\n",
    "df_sg"
   ]
  },
  {
   "cell_type": "code",
   "execution_count": 62,
   "metadata": {},
   "outputs": [
    {
     "name": "stdout",
     "output_type": "stream",
     "text": [
      "가장 긴 임베딩 벡터의 길이: 198\n"
     ]
    }
   ],
   "source": [
    "print('가장 긴 임베딩 벡터의 길이:', max(len(sentence) for sentence in df_sg['v2']))"
   ]
  },
  {
   "cell_type": "code",
   "execution_count": 63,
   "metadata": {},
   "outputs": [
    {
     "data": {
      "text/html": [
       "<div>\n",
       "<style scoped>\n",
       "    .dataframe tbody tr th:only-of-type {\n",
       "        vertical-align: middle;\n",
       "    }\n",
       "\n",
       "    .dataframe tbody tr th {\n",
       "        vertical-align: top;\n",
       "    }\n",
       "\n",
       "    .dataframe thead th {\n",
       "        text-align: right;\n",
       "    }\n",
       "</style>\n",
       "<table border=\"1\" class=\"dataframe\">\n",
       "  <thead>\n",
       "    <tr style=\"text-align: right;\">\n",
       "      <th></th>\n",
       "      <th>v1</th>\n",
       "      <th>v2</th>\n",
       "    </tr>\n",
       "  </thead>\n",
       "  <tbody>\n",
       "    <tr>\n",
       "      <th>0</th>\n",
       "      <td>0</td>\n",
       "      <td>[[0.21610375, -0.07939548, 0.3083103, 0.254244...</td>\n",
       "    </tr>\n",
       "    <tr>\n",
       "      <th>1</th>\n",
       "      <td>0</td>\n",
       "      <td>[[0.0078469515, -0.25899208, 0.009520756, 0.22...</td>\n",
       "    </tr>\n",
       "    <tr>\n",
       "      <th>2</th>\n",
       "      <td>1</td>\n",
       "      <td>[[0.07769693, 0.065753244, 0.5814194, 0.368394...</td>\n",
       "    </tr>\n",
       "    <tr>\n",
       "      <th>3</th>\n",
       "      <td>0</td>\n",
       "      <td>[[-0.42191222, -0.36229122, 0.30826178, 0.3781...</td>\n",
       "    </tr>\n",
       "    <tr>\n",
       "      <th>4</th>\n",
       "      <td>0</td>\n",
       "      <td>[[0.22021635, -0.1840905, 0.17533225, 0.283469...</td>\n",
       "    </tr>\n",
       "    <tr>\n",
       "      <th>...</th>\n",
       "      <td>...</td>\n",
       "      <td>...</td>\n",
       "    </tr>\n",
       "    <tr>\n",
       "      <th>5567</th>\n",
       "      <td>1</td>\n",
       "      <td>[[0.250206, -0.13415644, 0.49190277, 0.3690134...</td>\n",
       "    </tr>\n",
       "    <tr>\n",
       "      <th>5568</th>\n",
       "      <td>0</td>\n",
       "      <td>[[0.23505598, -0.25596222, 0.14994644, 0.32742...</td>\n",
       "    </tr>\n",
       "    <tr>\n",
       "      <th>5569</th>\n",
       "      <td>0</td>\n",
       "      <td>[[0.29481345, -0.36580938, 0.12977646, 0.19148...</td>\n",
       "    </tr>\n",
       "    <tr>\n",
       "      <th>5570</th>\n",
       "      <td>0</td>\n",
       "      <td>[[0.30323505, -0.012514892, 0.5053642, 0.17012...</td>\n",
       "    </tr>\n",
       "    <tr>\n",
       "      <th>5571</th>\n",
       "      <td>0</td>\n",
       "      <td>[[0.43196717, -0.050937276, 0.4247616, 0.42122...</td>\n",
       "    </tr>\n",
       "  </tbody>\n",
       "</table>\n",
       "<p>5572 rows × 2 columns</p>\n",
       "</div>"
      ],
      "text/plain": [
       "      v1                                                 v2\n",
       "0      0  [[0.21610375, -0.07939548, 0.3083103, 0.254244...\n",
       "1      0  [[0.0078469515, -0.25899208, 0.009520756, 0.22...\n",
       "2      1  [[0.07769693, 0.065753244, 0.5814194, 0.368394...\n",
       "3      0  [[-0.42191222, -0.36229122, 0.30826178, 0.3781...\n",
       "4      0  [[0.22021635, -0.1840905, 0.17533225, 0.283469...\n",
       "...   ..                                                ...\n",
       "5567   1  [[0.250206, -0.13415644, 0.49190277, 0.3690134...\n",
       "5568   0  [[0.23505598, -0.25596222, 0.14994644, 0.32742...\n",
       "5569   0  [[0.29481345, -0.36580938, 0.12977646, 0.19148...\n",
       "5570   0  [[0.30323505, -0.012514892, 0.5053642, 0.17012...\n",
       "5571   0  [[0.43196717, -0.050937276, 0.4247616, 0.42122...\n",
       "\n",
       "[5572 rows x 2 columns]"
      ]
     },
     "execution_count": 63,
     "metadata": {},
     "output_type": "execute_result"
    }
   ],
   "source": [
    "padding = []\n",
    "for sentence in df_sg['v2']:\n",
    "    if len(sentence) < 198:\n",
    "        sentence = sentence + [[0.]*64]*(198 - len(sentence))\n",
    "    padding.append(sentence)\n",
    "\n",
    "df_sg['v2'] = padding\n",
    "df_sg"
   ]
  },
  {
   "cell_type": "markdown",
   "metadata": {},
   "source": [
    "- 위와 같이 df_cbow와 df_sg를 얻었습니다.\n",
    "- 이를 이용하여 이진 분류 모델을 만들어보겠습니다."
   ]
  },
  {
   "cell_type": "markdown",
   "metadata": {},
   "source": [
    "## 본인이 도출해낸 해석을 적어주세요!\n",
    "\n",
    "- 유사도, Wordcloud, 이진 분류 모델, Plot 뭐든 상관없으니 분명하고 인상적인 해석을 적어주시면 됩니다."
   ]
  },
  {
   "cell_type": "markdown",
   "metadata": {},
   "source": [
    "- 훈련 데이터와 테스트 데이터를 split합니다."
   ]
  },
  {
   "cell_type": "code",
   "execution_count": 286,
   "metadata": {},
   "outputs": [],
   "source": [
    "import numpy as np\n",
    "from sklearn.model_selection import train_test_split\n",
    "\n",
    "X_train_cbow, X_test_cbow, y_train_cbow, y_test_cbow = train_test_split(df_cbow['v2'], df_cbow['v1'], test_size=0.2)\n",
    "X_train_sg, X_test_sg, y_train_sg, y_test_sg = train_test_split(df_sg['v2'], df_sg['v1'], test_size=0.2)"
   ]
  },
  {
   "cell_type": "code",
   "execution_count": 287,
   "metadata": {},
   "outputs": [],
   "source": [
    "X_train_cbow = X_train_cbow.reset_index(drop=True)\n",
    "X_test_cbow = X_test_cbow.reset_index(drop=True)\n",
    "y_train_cbow = y_train_cbow.reset_index(drop=True)\n",
    "y_test_cbow = y_test_cbow.reset_index(drop=True)\n",
    "\n",
    "X_train_sg = X_train_sg.reset_index(drop=True)\n",
    "X_test_sg = X_test_sg.reset_index(drop=True)\n",
    "y_train_sg = y_train_sg.reset_index(drop=True)\n",
    "y_test_sg = y_test_sg.reset_index(drop=True)"
   ]
  },
  {
   "cell_type": "code",
   "execution_count": 288,
   "metadata": {},
   "outputs": [
    {
     "data": {
      "text/plain": [
       "tensor([0.])"
      ]
     },
     "execution_count": 288,
     "metadata": {},
     "output_type": "execute_result"
    }
   ],
   "source": [
    "torch.Tensor([0])"
   ]
  },
  {
   "cell_type": "code",
   "execution_count": 289,
   "metadata": {},
   "outputs": [],
   "source": [
    "import torch\n",
    "from torch.utils.data import Dataset\n",
    "from torch.utils.data import DataLoader\n",
    "\n",
    "class DataSet(Dataset):\n",
    "    def __init__(self, vec, label = None):\n",
    "        super(DataSet, self).__init__()\n",
    "        self._vec = vec\n",
    "        self._label = label\n",
    "\n",
    "    def __len__(self):\n",
    "        return len(self._vec)\n",
    "\n",
    "    def __getitem__(self, idx):\n",
    "        if self._label is None: # test\n",
    "            vec = torch.FloatTensor(self._vec[idx])\n",
    "            return vec\n",
    "\n",
    "        else:\n",
    "            vec = torch.FloatTensor(self._vec[idx])\n",
    "            label = torch.FloatTensor([self._label[idx]])\n",
    "            return vec, label\n",
    "        \n",
    "train_dataset_cbow = DataSet(X_train_cbow, y_train_cbow)\n",
    "train_loader_cbow = DataLoader(train_dataset_cbow, batch_size = 64, shuffle = True, drop_last = False)\n",
    "\n",
    "test_dataset_cbow = DataSet(X_test_cbow, y_test_cbow)\n",
    "test_loader_cbow = DataLoader(test_dataset_cbow, batch_size = 64, shuffle = False, drop_last = False)\n",
    "\n",
    "train_dataset_sg = DataSet(X_train_sg, y_train_sg)\n",
    "train_loader_sg = DataLoader(train_dataset_sg, batch_size = 64, shuffle = True, drop_last = False)\n",
    "\n",
    "test_dataset_sg = DataSet(X_test_sg, y_test_sg)\n",
    "test_loader_sg = DataLoader(test_dataset_sg, batch_size = 64, shuffle = False, drop_last = False)"
   ]
  },
  {
   "cell_type": "code",
   "execution_count": 290,
   "metadata": {},
   "outputs": [
    {
     "data": {
      "text/plain": [
       "[tensor([[[ 0.0078, -0.2590,  0.0095,  ..., -0.2951,  0.6716, -0.0878],\n",
       "          [ 0.2618, -0.3188,  0.2668,  ..., -0.3770,  0.5660,  0.2103],\n",
       "          [ 0.1387, -0.3592,  0.1661,  ..., -0.0218,  0.3624,  0.1323],\n",
       "          ...,\n",
       "          [ 0.0000,  0.0000,  0.0000,  ...,  0.0000,  0.0000,  0.0000],\n",
       "          [ 0.0000,  0.0000,  0.0000,  ...,  0.0000,  0.0000,  0.0000],\n",
       "          [ 0.0000,  0.0000,  0.0000,  ...,  0.0000,  0.0000,  0.0000]],\n",
       " \n",
       "         [[ 0.2464, -0.2571,  0.1294,  ..., -0.1425,  0.2843,  0.0447],\n",
       "          [ 0.2948, -0.3658,  0.1298,  ..., -0.0151,  0.0700, -0.0629],\n",
       "          [ 0.0348, -0.4505,  0.4774,  ..., -0.2822,  0.4324,  0.0877],\n",
       "          ...,\n",
       "          [ 0.0000,  0.0000,  0.0000,  ...,  0.0000,  0.0000,  0.0000],\n",
       "          [ 0.0000,  0.0000,  0.0000,  ...,  0.0000,  0.0000,  0.0000],\n",
       "          [ 0.0000,  0.0000,  0.0000,  ...,  0.0000,  0.0000,  0.0000]],\n",
       " \n",
       "         [[ 0.2680, -0.1929,  0.2216,  ..., -0.0876,  0.1886,  0.0585],\n",
       "          [ 0.3515, -0.5925,  0.2509,  ..., -0.4242,  0.1104,  0.1321],\n",
       "          [ 0.4320, -0.0509,  0.4248,  ...,  0.0221, -0.0093,  0.1265],\n",
       "          ...,\n",
       "          [ 0.0000,  0.0000,  0.0000,  ...,  0.0000,  0.0000,  0.0000],\n",
       "          [ 0.0000,  0.0000,  0.0000,  ...,  0.0000,  0.0000,  0.0000],\n",
       "          [ 0.0000,  0.0000,  0.0000,  ...,  0.0000,  0.0000,  0.0000]],\n",
       " \n",
       "         ...,\n",
       " \n",
       "         [[ 0.3764, -0.2646,  0.4211,  ..., -0.1730,  0.1229, -0.0575],\n",
       "          [ 0.3515, -0.5925,  0.2509,  ..., -0.4242,  0.1104,  0.1321],\n",
       "          [ 0.2301, -0.3052,  0.1193,  ..., -0.2209,  0.4000,  0.0651],\n",
       "          ...,\n",
       "          [ 0.0000,  0.0000,  0.0000,  ...,  0.0000,  0.0000,  0.0000],\n",
       "          [ 0.0000,  0.0000,  0.0000,  ...,  0.0000,  0.0000,  0.0000],\n",
       "          [ 0.0000,  0.0000,  0.0000,  ...,  0.0000,  0.0000,  0.0000]],\n",
       " \n",
       "         [[ 0.0983, -0.2159,  0.1331,  ..., -0.1191,  0.3235, -0.0953],\n",
       "          [-0.0309, -0.4368,  0.0293,  ..., -0.3245,  0.7770, -0.1721],\n",
       "          [-0.1274, -0.2945, -0.0499,  ..., -0.3387,  0.7989, -0.3933],\n",
       "          ...,\n",
       "          [ 0.0000,  0.0000,  0.0000,  ...,  0.0000,  0.0000,  0.0000],\n",
       "          [ 0.0000,  0.0000,  0.0000,  ...,  0.0000,  0.0000,  0.0000],\n",
       "          [ 0.0000,  0.0000,  0.0000,  ...,  0.0000,  0.0000,  0.0000]],\n",
       " \n",
       "         [[ 0.1825, -0.3937,  0.2229,  ..., -0.1428,  0.3251, -0.1369],\n",
       "          [ 0.4917, -0.2873,  0.2008,  ..., -0.1283,  0.1720, -0.0143],\n",
       "          [ 0.3515, -0.5925,  0.2509,  ..., -0.4242,  0.1104,  0.1321],\n",
       "          ...,\n",
       "          [ 0.0000,  0.0000,  0.0000,  ...,  0.0000,  0.0000,  0.0000],\n",
       "          [ 0.0000,  0.0000,  0.0000,  ...,  0.0000,  0.0000,  0.0000],\n",
       "          [ 0.0000,  0.0000,  0.0000,  ...,  0.0000,  0.0000,  0.0000]]]),\n",
       " tensor([[0.],\n",
       "         [0.],\n",
       "         [0.],\n",
       "         [0.],\n",
       "         [1.],\n",
       "         [0.],\n",
       "         [0.],\n",
       "         [0.],\n",
       "         [0.],\n",
       "         [0.],\n",
       "         [0.],\n",
       "         [1.],\n",
       "         [0.],\n",
       "         [0.],\n",
       "         [0.],\n",
       "         [0.],\n",
       "         [0.],\n",
       "         [0.],\n",
       "         [0.],\n",
       "         [0.],\n",
       "         [0.],\n",
       "         [1.],\n",
       "         [0.],\n",
       "         [0.],\n",
       "         [0.],\n",
       "         [0.],\n",
       "         [0.],\n",
       "         [0.],\n",
       "         [0.],\n",
       "         [1.],\n",
       "         [0.],\n",
       "         [0.],\n",
       "         [0.],\n",
       "         [0.],\n",
       "         [0.],\n",
       "         [0.],\n",
       "         [0.],\n",
       "         [0.],\n",
       "         [0.],\n",
       "         [0.],\n",
       "         [0.],\n",
       "         [0.],\n",
       "         [0.],\n",
       "         [0.],\n",
       "         [0.],\n",
       "         [0.],\n",
       "         [0.],\n",
       "         [0.],\n",
       "         [1.],\n",
       "         [0.],\n",
       "         [0.],\n",
       "         [0.],\n",
       "         [0.],\n",
       "         [0.],\n",
       "         [0.],\n",
       "         [0.],\n",
       "         [0.],\n",
       "         [0.],\n",
       "         [0.],\n",
       "         [0.],\n",
       "         [1.],\n",
       "         [0.],\n",
       "         [0.],\n",
       "         [0.]])]"
      ]
     },
     "execution_count": 290,
     "metadata": {},
     "output_type": "execute_result"
    }
   ],
   "source": [
    "next(iter(train_loader_sg))"
   ]
  },
  {
   "cell_type": "markdown",
   "metadata": {},
   "source": [
    "- 이제 위에서 얻은 데이터를 이용해서 이진 분류 모델을 만들어봅시다."
   ]
  },
  {
   "cell_type": "markdown",
   "metadata": {},
   "source": [
    "- 해당 모델의 구현은 NNAdv 구현을 참고하였습니다."
   ]
  },
  {
   "cell_type": "code",
   "execution_count": 291,
   "metadata": {},
   "outputs": [
    {
     "data": {
      "text/plain": [
       "'cuda'"
      ]
     },
     "execution_count": 291,
     "metadata": {},
     "output_type": "execute_result"
    }
   ],
   "source": [
    "device = 'cuda' if torch.cuda.is_available() else 'cpu'\n",
    "device"
   ]
  },
  {
   "cell_type": "code",
   "execution_count": 300,
   "metadata": {},
   "outputs": [],
   "source": [
    "import torch\n",
    "import torch.nn as nn\n",
    "\n",
    "class SimpleLSTM(nn.Module):\n",
    "    def __init__(self, input_size=64, hidden_size=32, output_size=1):\n",
    "        super(SimpleLSTM, self).__init__()\n",
    "        self.hidden_size = hidden_size\n",
    "        self.lstm = nn.LSTM(input_size, hidden_size, batch_first=True)\n",
    "        self.fc = nn.Linear(hidden_size*198, output_size)\n",
    "        self.sigmoid = nn.Sigmoid()\n",
    "    \n",
    "    def forward(self, x):\n",
    "        x, _ = self.lstm(x)\n",
    "        x = x.reshape(-1, self.hidden_size*198)\n",
    "        x = self.fc(x)\n",
    "        x = self.sigmoid(x)\n",
    "        return x\n",
    "\n",
    "model = SimpleLSTM().to(device)\n",
    "\n",
    "criterion = nn.BCELoss()\n",
    "optimizer = torch.optim.Adam(model.parameters(), lr=0.001)"
   ]
  },
  {
   "cell_type": "code",
   "execution_count": 301,
   "metadata": {},
   "outputs": [],
   "source": [
    "epochs = 5\n",
    "def train(model, train_loader):\n",
    "    model.train()\n",
    "    train_loss = 0\n",
    "    correct = 0\n",
    "\n",
    "    for batch, label in train_loader:\n",
    "        batch = batch.to(device)\n",
    "        label = label.to(device)\n",
    "        \n",
    "        optimizer.zero_grad()\n",
    "        output = model(batch)\n",
    "        loss = criterion(output, label)\n",
    "        loss.backward()\n",
    "        optimizer.step()\n",
    "\n",
    "        train_loss += loss.item()\n",
    "        prediction = torch.FloatTensor([0 if out < 0.5 else 1 for out in output]).to(device)\n",
    "        correct += prediction.eq(label.view_as(prediction)).sum().item()\n",
    "      \n",
    "    train_loss /= len(train_loader)\n",
    "    train_accuracy = 100. * correct / len(train_loader.dataset)\n",
    "    return train_loss, train_accuracy # 훈련 오차, 정확도\n",
    "\n",
    "def evaluate(model, test_loader):\n",
    "    model.eval()\n",
    "    test_loss = 0\n",
    "    correct = 0\n",
    "\n",
    "    with torch.no_grad():\n",
    "        for batch, label in test_loader:\n",
    "            batch = batch.to(device)\n",
    "            label = label.to(device)\n",
    "            output = model(batch)\n",
    "            test_loss += criterion(output, label).item()\n",
    "            prediction = torch.FloatTensor([0 if out < 0.5 else 1 for out in output]).to(device)\n",
    "            correct += prediction.eq(label.view_as(prediction)).sum().item()\n",
    "\n",
    "    test_loss /= len(test_loader)\n",
    "    test_accuracy = 100. * correct / len(test_loader.dataset)\n",
    "    return test_loss, test_accuracy # 검증/시험 데이터의 오차, 정확도"
   ]
  },
  {
   "cell_type": "markdown",
   "metadata": {},
   "source": [
    "- 가장 간단한 LSTM 모델로 스팸 메일을 구분하는 학습을 시켜보도록 하겠습니다."
   ]
  },
  {
   "cell_type": "markdown",
   "metadata": {},
   "source": [
    "- **CBOW**로 임베딩한 데이터에 대한 학습"
   ]
  },
  {
   "cell_type": "code",
   "execution_count": 306,
   "metadata": {},
   "outputs": [
    {
     "name": "stdout",
     "output_type": "stream",
     "text": [
      "[EPOCH: 1], \tTrain Loss: 0.3346, \tTrain Accuracy: 87.48 %, \tVal Loss: 0.2805, \tVal Accuracy: 88.61 % \n",
      "\n",
      "[EPOCH: 2], \tTrain Loss: 0.2079, \tTrain Accuracy: 92.33 %, \tVal Loss: 0.2393, \tVal Accuracy: 91.75 % \n",
      "\n",
      "[EPOCH: 3], \tTrain Loss: 0.1748, \tTrain Accuracy: 93.76 %, \tVal Loss: 0.2040, \tVal Accuracy: 93.54 % \n",
      "\n",
      "[EPOCH: 4], \tTrain Loss: 0.1546, \tTrain Accuracy: 94.68 %, \tVal Loss: 0.1935, \tVal Accuracy: 94.08 % \n",
      "\n",
      "[EPOCH: 5], \tTrain Loss: 0.1454, \tTrain Accuracy: 94.84 %, \tVal Loss: 0.2025, \tVal Accuracy: 93.45 % \n",
      "\n"
     ]
    },
    {
     "data": {
      "image/png": "[encoded data removed]",
      "text/plain": [
       "<Figure size 1500x500 with 2 Axes>"
      ]
     },
     "metadata": {},
     "output_type": "display_data"
    }
   ],
   "source": [
    "import matplotlib.pyplot as plt\n",
    "\n",
    "model = SimpleLSTM().to(device)\n",
    "\n",
    "criterion = nn.BCELoss()\n",
    "optimizer = torch.optim.Adam(model.parameters(), lr=0.001)\n",
    "\n",
    "result_list = []\n",
    "for epoch in range(1, epochs + 1):\n",
    "    train_loss, train_accuracy = train(model, train_loader_cbow)\n",
    "    val_loss, val_accuracy = evaluate(model, test_loader_cbow)\n",
    "    print(f\"[EPOCH: {epoch}], \\tTrain Loss: {train_loss:.4f}, \\tTrain Accuracy: {train_accuracy:.2f} %, \\tVal Loss: {val_loss:.4f}, \\tVal Accuracy: {val_accuracy:.2f} % \\n\")\n",
    "    result = {\n",
    "        'EPOCH': epoch,\n",
    "        'Train Loss': train_loss,\n",
    "        'Train Accuracy': train_accuracy,\n",
    "        'Val Loss': val_loss,\n",
    "        'Val Accuracy': val_accuracy}\n",
    "\n",
    "    result_list.append(result)\n",
    "    \n",
    "result_df = pd.DataFrame(result_list)\n",
    "\n",
    "fig, axes = plt.subplots(nrows=1, ncols=2, figsize=(15, 5))\n",
    "\n",
    "axes[0].plot(result_df['EPOCH'], result_df['Train Loss'], label='Train Loss')\n",
    "axes[0].plot(result_df['EPOCH'], result_df['Val Loss'], label='Val Loss')\n",
    "axes[0].set_ylim(0.0, 0.5)\n",
    "axes[0].legend()\n",
    "axes[0].set_title('Loss')\n",
    "\n",
    "axes[1].plot(result_df['EPOCH'], result_df['Train Accuracy'], label='Train Accuracy')\n",
    "axes[1].plot(result_df['EPOCH'], result_df['Val Accuracy'], label='Val Accuracy')\n",
    "axes[1].set_ylim(80, 100)\n",
    "axes[1].legend()\n",
    "axes[1].set_title('ACC')\n",
    "\n",
    "plt.show()"
   ]
  },
  {
   "cell_type": "markdown",
   "metadata": {},
   "source": [
    "- **skip-gram**으로 임베딩한 데이터에 대한 학습"
   ]
  },
  {
   "cell_type": "code",
   "execution_count": 307,
   "metadata": {},
   "outputs": [
    {
     "name": "stdout",
     "output_type": "stream",
     "text": [
      "[EPOCH: 1], \tTrain Loss: 0.2815, \tTrain Accuracy: 90.20 %, \tVal Loss: 0.1274, \tVal Accuracy: 95.70 % \n",
      "\n",
      "[EPOCH: 2], \tTrain Loss: 0.0945, \tTrain Accuracy: 96.63 %, \tVal Loss: 0.1003, \tVal Accuracy: 96.59 % \n",
      "\n",
      "[EPOCH: 3], \tTrain Loss: 0.0803, \tTrain Accuracy: 97.17 %, \tVal Loss: 0.0960, \tVal Accuracy: 96.68 % \n",
      "\n",
      "[EPOCH: 4], \tTrain Loss: 0.0767, \tTrain Accuracy: 97.51 %, \tVal Loss: 0.0905, \tVal Accuracy: 97.22 % \n",
      "\n",
      "[EPOCH: 5], \tTrain Loss: 0.0726, \tTrain Accuracy: 97.80 %, \tVal Loss: 0.0799, \tVal Accuracy: 97.49 % \n",
      "\n"
     ]
    },
    {
     "data": {
      "image/png": "[encoded data removed]",
      "text/plain": [
       "<Figure size 1500x500 with 2 Axes>"
      ]
     },
     "metadata": {},
     "output_type": "display_data"
    }
   ],
   "source": [
    "import matplotlib.pyplot as plt\n",
    "\n",
    "model = SimpleLSTM().to(device)\n",
    "\n",
    "criterion = nn.BCELoss()\n",
    "optimizer = torch.optim.Adam(model.parameters(), lr=0.001)\n",
    "\n",
    "result_list = []\n",
    "for epoch in range(1, epochs + 1):\n",
    "    train_loss, train_accuracy = train(model, train_loader_sg)\n",
    "    val_loss, val_accuracy = evaluate(model, test_loader_sg)\n",
    "    print(f\"[EPOCH: {epoch}], \\tTrain Loss: {train_loss:.4f}, \\tTrain Accuracy: {train_accuracy:.2f} %, \\tVal Loss: {val_loss:.4f}, \\tVal Accuracy: {val_accuracy:.2f} % \\n\")\n",
    "    result = {\n",
    "        'EPOCH': epoch,\n",
    "        'Train Loss': train_loss,\n",
    "        'Train Accuracy': train_accuracy,\n",
    "        'Val Loss': val_loss,\n",
    "        'Val Accuracy': val_accuracy}\n",
    "\n",
    "    result_list.append(result)\n",
    "    \n",
    "result_df = pd.DataFrame(result_list)\n",
    "\n",
    "fig, axes = plt.subplots(nrows=1, ncols=2, figsize=(15, 5))\n",
    "\n",
    "axes[0].plot(result_df['EPOCH'], result_df['Train Loss'], label='Train Loss')\n",
    "axes[0].plot(result_df['EPOCH'], result_df['Val Loss'], label='Val Loss')\n",
    "axes[0].set_ylim(0.0, 0.2)\n",
    "axes[0].legend()\n",
    "axes[0].set_title('Loss')\n",
    "\n",
    "axes[1].plot(result_df['EPOCH'], result_df['Train Accuracy'], label='Train Accuracy')\n",
    "axes[1].plot(result_df['EPOCH'], result_df['Val Accuracy'], label='Val Accuracy')\n",
    "axes[1].set_ylim(90, 100)\n",
    "axes[1].legend()\n",
    "axes[1].set_title('ACC')\n",
    "\n",
    "plt.show()"
   ]
  },
  {
   "cell_type": "markdown",
   "metadata": {},
   "source": [
    "- CBOW로 임베딩한 데이터로 이진 분류를 하는 것보다 **skip-gram**으로 임베딩한 데이터로 이진 분류를 하는 것이 더 좋은 성능을 보였습니다.\n",
    "- **CBOW** 임베딩 데이터로는 평균적으로 **93.5%**로 스팸 메일을 구분하였습니다.\n",
    "- **skip-gram** 임베딩 데이터로는 평균적으로 **97.5%**로 스팸 메일을 구분하였습니다."
   ]
  },
  {
   "cell_type": "code",
   "execution_count": null,
   "metadata": {},
   "outputs": [],
   "source": []
  }
 ],
 "metadata": {
  "kernelspec": {
   "display_name": "Python 3 (ipykernel)",
   "language": "python",
   "name": "python3"
  },
  "language_info": {
   "codemirror_mode": {
    "name": "ipython",
    "version": 3
   },
   "file_extension": ".py",
   "mimetype": "text/x-python",
   "name": "python",
   "nbconvert_exporter": "python",
   "pygments_lexer": "ipython3",
   "version": "3.9.13"
  }
 },
 "nbformat": 4,
 "nbformat_minor": 4
}
