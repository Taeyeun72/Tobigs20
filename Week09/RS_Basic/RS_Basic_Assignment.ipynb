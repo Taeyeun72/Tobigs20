{
 "cells": [
  {
   "cell_type": "markdown",
   "id": "a1a1ce5d",
   "metadata": {},
   "source": [
    "# Recommendation System Basic 과제"
   ]
  },
  {
   "cell_type": "markdown",
   "id": "4d152b44",
   "metadata": {},
   "source": [
    "- 제출자: 20기 황태연\n",
    "- 제출 일자: 2023.09.19."
   ]
  },
  {
   "cell_type": "markdown",
   "id": "418a232d",
   "metadata": {},
   "source": [
    "**[과제]**\n",
    "1. 파이썬을 이용하여 무비렌즈(ml-latest-small) 데이터를 전처리 및 EDA를 진행하여 유의미한 분석 5개 이상 보여주세요.\n",
    "2. Memory based CF 2개 이상, Model based CF 1개 이상 알고리즘을 사용해서 '성능 평가'와 '추천 결과'를 출력해주세요."
   ]
  },
  {
   "cell_type": "markdown",
   "id": "cc802bda",
   "metadata": {},
   "source": [
    "# 1. Preprocessing & EDA"
   ]
  },
  {
   "cell_type": "markdown",
   "id": "9c1638b9",
   "metadata": {},
   "source": [
    "- 데이터를 불러오고 확인해보자."
   ]
  },
  {
   "cell_type": "code",
   "execution_count": 102,
   "id": "7c3eeb22",
   "metadata": {},
   "outputs": [],
   "source": [
    "import numpy as np\n",
    "import pandas as pd\n",
    "import matplotlib.pyplot as plt\n",
    "import seaborn as sns\n",
    "from surprise import Dataset, Reader, KNNBasic, SVD\n",
    "from surprise.model_selection import train_test_split\n",
    "from surprise import accuracy"
   ]
  },
  {
   "cell_type": "code",
   "execution_count": 12,
   "id": "33381e34",
   "metadata": {},
   "outputs": [],
   "source": [
    "movies = pd.read_csv(\"movies.csv\")\n",
    "ratings = pd.read_csv(\"ratings.csv\")"
   ]
  },
  {
   "cell_type": "code",
   "execution_count": 13,
   "id": "c5997010",
   "metadata": {},
   "outputs": [
    {
     "data": {
      "text/html": [
       "<div>\n",
       "<style scoped>\n",
       "    .dataframe tbody tr th:only-of-type {\n",
       "        vertical-align: middle;\n",
       "    }\n",
       "\n",
       "    .dataframe tbody tr th {\n",
       "        vertical-align: top;\n",
       "    }\n",
       "\n",
       "    .dataframe thead th {\n",
       "        text-align: right;\n",
       "    }\n",
       "</style>\n",
       "<table border=\"1\" class=\"dataframe\">\n",
       "  <thead>\n",
       "    <tr style=\"text-align: right;\">\n",
       "      <th></th>\n",
       "      <th>movieId</th>\n",
       "      <th>title</th>\n",
       "      <th>genres</th>\n",
       "    </tr>\n",
       "  </thead>\n",
       "  <tbody>\n",
       "    <tr>\n",
       "      <th>0</th>\n",
       "      <td>1</td>\n",
       "      <td>Toy Story (1995)</td>\n",
       "      <td>Adventure|Animation|Children|Comedy|Fantasy</td>\n",
       "    </tr>\n",
       "    <tr>\n",
       "      <th>1</th>\n",
       "      <td>2</td>\n",
       "      <td>Jumanji (1995)</td>\n",
       "      <td>Adventure|Children|Fantasy</td>\n",
       "    </tr>\n",
       "    <tr>\n",
       "      <th>2</th>\n",
       "      <td>3</td>\n",
       "      <td>Grumpier Old Men (1995)</td>\n",
       "      <td>Comedy|Romance</td>\n",
       "    </tr>\n",
       "    <tr>\n",
       "      <th>3</th>\n",
       "      <td>4</td>\n",
       "      <td>Waiting to Exhale (1995)</td>\n",
       "      <td>Comedy|Drama|Romance</td>\n",
       "    </tr>\n",
       "    <tr>\n",
       "      <th>4</th>\n",
       "      <td>5</td>\n",
       "      <td>Father of the Bride Part II (1995)</td>\n",
       "      <td>Comedy</td>\n",
       "    </tr>\n",
       "    <tr>\n",
       "      <th>...</th>\n",
       "      <td>...</td>\n",
       "      <td>...</td>\n",
       "      <td>...</td>\n",
       "    </tr>\n",
       "    <tr>\n",
       "      <th>9737</th>\n",
       "      <td>193581</td>\n",
       "      <td>Black Butler: Book of the Atlantic (2017)</td>\n",
       "      <td>Action|Animation|Comedy|Fantasy</td>\n",
       "    </tr>\n",
       "    <tr>\n",
       "      <th>9738</th>\n",
       "      <td>193583</td>\n",
       "      <td>No Game No Life: Zero (2017)</td>\n",
       "      <td>Animation|Comedy|Fantasy</td>\n",
       "    </tr>\n",
       "    <tr>\n",
       "      <th>9739</th>\n",
       "      <td>193585</td>\n",
       "      <td>Flint (2017)</td>\n",
       "      <td>Drama</td>\n",
       "    </tr>\n",
       "    <tr>\n",
       "      <th>9740</th>\n",
       "      <td>193587</td>\n",
       "      <td>Bungo Stray Dogs: Dead Apple (2018)</td>\n",
       "      <td>Action|Animation</td>\n",
       "    </tr>\n",
       "    <tr>\n",
       "      <th>9741</th>\n",
       "      <td>193609</td>\n",
       "      <td>Andrew Dice Clay: Dice Rules (1991)</td>\n",
       "      <td>Comedy</td>\n",
       "    </tr>\n",
       "  </tbody>\n",
       "</table>\n",
       "<p>9742 rows × 3 columns</p>\n",
       "</div>"
      ],
      "text/plain": [
       "      movieId                                      title  \\\n",
       "0           1                           Toy Story (1995)   \n",
       "1           2                             Jumanji (1995)   \n",
       "2           3                    Grumpier Old Men (1995)   \n",
       "3           4                   Waiting to Exhale (1995)   \n",
       "4           5         Father of the Bride Part II (1995)   \n",
       "...       ...                                        ...   \n",
       "9737   193581  Black Butler: Book of the Atlantic (2017)   \n",
       "9738   193583               No Game No Life: Zero (2017)   \n",
       "9739   193585                               Flint (2017)   \n",
       "9740   193587        Bungo Stray Dogs: Dead Apple (2018)   \n",
       "9741   193609        Andrew Dice Clay: Dice Rules (1991)   \n",
       "\n",
       "                                           genres  \n",
       "0     Adventure|Animation|Children|Comedy|Fantasy  \n",
       "1                      Adventure|Children|Fantasy  \n",
       "2                                  Comedy|Romance  \n",
       "3                            Comedy|Drama|Romance  \n",
       "4                                          Comedy  \n",
       "...                                           ...  \n",
       "9737              Action|Animation|Comedy|Fantasy  \n",
       "9738                     Animation|Comedy|Fantasy  \n",
       "9739                                        Drama  \n",
       "9740                             Action|Animation  \n",
       "9741                                       Comedy  \n",
       "\n",
       "[9742 rows x 3 columns]"
      ]
     },
     "execution_count": 13,
     "metadata": {},
     "output_type": "execute_result"
    }
   ],
   "source": [
    "movies"
   ]
  },
  {
   "cell_type": "code",
   "execution_count": 14,
   "id": "e1a2dd8b",
   "metadata": {},
   "outputs": [
    {
     "data": {
      "text/html": [
       "<div>\n",
       "<style scoped>\n",
       "    .dataframe tbody tr th:only-of-type {\n",
       "        vertical-align: middle;\n",
       "    }\n",
       "\n",
       "    .dataframe tbody tr th {\n",
       "        vertical-align: top;\n",
       "    }\n",
       "\n",
       "    .dataframe thead th {\n",
       "        text-align: right;\n",
       "    }\n",
       "</style>\n",
       "<table border=\"1\" class=\"dataframe\">\n",
       "  <thead>\n",
       "    <tr style=\"text-align: right;\">\n",
       "      <th></th>\n",
       "      <th>userId</th>\n",
       "      <th>movieId</th>\n",
       "      <th>rating</th>\n",
       "      <th>timestamp</th>\n",
       "    </tr>\n",
       "  </thead>\n",
       "  <tbody>\n",
       "    <tr>\n",
       "      <th>0</th>\n",
       "      <td>1</td>\n",
       "      <td>1</td>\n",
       "      <td>4.0</td>\n",
       "      <td>964982703</td>\n",
       "    </tr>\n",
       "    <tr>\n",
       "      <th>1</th>\n",
       "      <td>1</td>\n",
       "      <td>3</td>\n",
       "      <td>4.0</td>\n",
       "      <td>964981247</td>\n",
       "    </tr>\n",
       "    <tr>\n",
       "      <th>2</th>\n",
       "      <td>1</td>\n",
       "      <td>6</td>\n",
       "      <td>4.0</td>\n",
       "      <td>964982224</td>\n",
       "    </tr>\n",
       "    <tr>\n",
       "      <th>3</th>\n",
       "      <td>1</td>\n",
       "      <td>47</td>\n",
       "      <td>5.0</td>\n",
       "      <td>964983815</td>\n",
       "    </tr>\n",
       "    <tr>\n",
       "      <th>4</th>\n",
       "      <td>1</td>\n",
       "      <td>50</td>\n",
       "      <td>5.0</td>\n",
       "      <td>964982931</td>\n",
       "    </tr>\n",
       "    <tr>\n",
       "      <th>...</th>\n",
       "      <td>...</td>\n",
       "      <td>...</td>\n",
       "      <td>...</td>\n",
       "      <td>...</td>\n",
       "    </tr>\n",
       "    <tr>\n",
       "      <th>100831</th>\n",
       "      <td>610</td>\n",
       "      <td>166534</td>\n",
       "      <td>4.0</td>\n",
       "      <td>1493848402</td>\n",
       "    </tr>\n",
       "    <tr>\n",
       "      <th>100832</th>\n",
       "      <td>610</td>\n",
       "      <td>168248</td>\n",
       "      <td>5.0</td>\n",
       "      <td>1493850091</td>\n",
       "    </tr>\n",
       "    <tr>\n",
       "      <th>100833</th>\n",
       "      <td>610</td>\n",
       "      <td>168250</td>\n",
       "      <td>5.0</td>\n",
       "      <td>1494273047</td>\n",
       "    </tr>\n",
       "    <tr>\n",
       "      <th>100834</th>\n",
       "      <td>610</td>\n",
       "      <td>168252</td>\n",
       "      <td>5.0</td>\n",
       "      <td>1493846352</td>\n",
       "    </tr>\n",
       "    <tr>\n",
       "      <th>100835</th>\n",
       "      <td>610</td>\n",
       "      <td>170875</td>\n",
       "      <td>3.0</td>\n",
       "      <td>1493846415</td>\n",
       "    </tr>\n",
       "  </tbody>\n",
       "</table>\n",
       "<p>100836 rows × 4 columns</p>\n",
       "</div>"
      ],
      "text/plain": [
       "        userId  movieId  rating   timestamp\n",
       "0            1        1     4.0   964982703\n",
       "1            1        3     4.0   964981247\n",
       "2            1        6     4.0   964982224\n",
       "3            1       47     5.0   964983815\n",
       "4            1       50     5.0   964982931\n",
       "...        ...      ...     ...         ...\n",
       "100831     610   166534     4.0  1493848402\n",
       "100832     610   168248     5.0  1493850091\n",
       "100833     610   168250     5.0  1494273047\n",
       "100834     610   168252     5.0  1493846352\n",
       "100835     610   170875     3.0  1493846415\n",
       "\n",
       "[100836 rows x 4 columns]"
      ]
     },
     "execution_count": 14,
     "metadata": {},
     "output_type": "execute_result"
    }
   ],
   "source": [
    "ratings"
   ]
  },
  {
   "cell_type": "markdown",
   "id": "b4563e57",
   "metadata": {},
   "source": [
    "- timestamp는 제거하여 전처리하자."
   ]
  },
  {
   "cell_type": "code",
   "execution_count": 20,
   "id": "7293bb7e",
   "metadata": {},
   "outputs": [],
   "source": [
    "ratings = ratings.drop(columns=['timestamp'])"
   ]
  },
  {
   "cell_type": "code",
   "execution_count": 23,
   "id": "44686171",
   "metadata": {},
   "outputs": [
    {
     "data": {
      "text/html": [
       "<div>\n",
       "<style scoped>\n",
       "    .dataframe tbody tr th:only-of-type {\n",
       "        vertical-align: middle;\n",
       "    }\n",
       "\n",
       "    .dataframe tbody tr th {\n",
       "        vertical-align: top;\n",
       "    }\n",
       "\n",
       "    .dataframe thead th {\n",
       "        text-align: right;\n",
       "    }\n",
       "</style>\n",
       "<table border=\"1\" class=\"dataframe\">\n",
       "  <thead>\n",
       "    <tr style=\"text-align: right;\">\n",
       "      <th></th>\n",
       "      <th>userId</th>\n",
       "      <th>movieId</th>\n",
       "      <th>rating</th>\n",
       "    </tr>\n",
       "  </thead>\n",
       "  <tbody>\n",
       "    <tr>\n",
       "      <th>0</th>\n",
       "      <td>1</td>\n",
       "      <td>1</td>\n",
       "      <td>4.0</td>\n",
       "    </tr>\n",
       "    <tr>\n",
       "      <th>1</th>\n",
       "      <td>1</td>\n",
       "      <td>3</td>\n",
       "      <td>4.0</td>\n",
       "    </tr>\n",
       "    <tr>\n",
       "      <th>2</th>\n",
       "      <td>1</td>\n",
       "      <td>6</td>\n",
       "      <td>4.0</td>\n",
       "    </tr>\n",
       "    <tr>\n",
       "      <th>3</th>\n",
       "      <td>1</td>\n",
       "      <td>47</td>\n",
       "      <td>5.0</td>\n",
       "    </tr>\n",
       "    <tr>\n",
       "      <th>4</th>\n",
       "      <td>1</td>\n",
       "      <td>50</td>\n",
       "      <td>5.0</td>\n",
       "    </tr>\n",
       "    <tr>\n",
       "      <th>...</th>\n",
       "      <td>...</td>\n",
       "      <td>...</td>\n",
       "      <td>...</td>\n",
       "    </tr>\n",
       "    <tr>\n",
       "      <th>100831</th>\n",
       "      <td>610</td>\n",
       "      <td>166534</td>\n",
       "      <td>4.0</td>\n",
       "    </tr>\n",
       "    <tr>\n",
       "      <th>100832</th>\n",
       "      <td>610</td>\n",
       "      <td>168248</td>\n",
       "      <td>5.0</td>\n",
       "    </tr>\n",
       "    <tr>\n",
       "      <th>100833</th>\n",
       "      <td>610</td>\n",
       "      <td>168250</td>\n",
       "      <td>5.0</td>\n",
       "    </tr>\n",
       "    <tr>\n",
       "      <th>100834</th>\n",
       "      <td>610</td>\n",
       "      <td>168252</td>\n",
       "      <td>5.0</td>\n",
       "    </tr>\n",
       "    <tr>\n",
       "      <th>100835</th>\n",
       "      <td>610</td>\n",
       "      <td>170875</td>\n",
       "      <td>3.0</td>\n",
       "    </tr>\n",
       "  </tbody>\n",
       "</table>\n",
       "<p>100836 rows × 3 columns</p>\n",
       "</div>"
      ],
      "text/plain": [
       "        userId  movieId  rating\n",
       "0            1        1     4.0\n",
       "1            1        3     4.0\n",
       "2            1        6     4.0\n",
       "3            1       47     5.0\n",
       "4            1       50     5.0\n",
       "...        ...      ...     ...\n",
       "100831     610   166534     4.0\n",
       "100832     610   168248     5.0\n",
       "100833     610   168250     5.0\n",
       "100834     610   168252     5.0\n",
       "100835     610   170875     3.0\n",
       "\n",
       "[100836 rows x 3 columns]"
      ]
     },
     "execution_count": 23,
     "metadata": {},
     "output_type": "execute_result"
    }
   ],
   "source": [
    "ratings"
   ]
  },
  {
   "cell_type": "markdown",
   "id": "b6f536cb",
   "metadata": {},
   "source": [
    "## 1.1. 영화 장르 비율"
   ]
  },
  {
   "cell_type": "code",
   "execution_count": 80,
   "id": "d55c281a",
   "metadata": {},
   "outputs": [
    {
     "data": {
      "image/png": "[encoded data removed]",
      "text/plain": [
       "<Figure size 1000x600 with 1 Axes>"
      ]
     },
     "metadata": {},
     "output_type": "display_data"
    }
   ],
   "source": [
    "genres = movies['genres'].str.split('|')\n",
    "\n",
    "genres_list = []\n",
    "\n",
    "for genre_list in genres:\n",
    "    genres_list.extend(genre_list)\n",
    "\n",
    "genres_counts = pd.Series(genres_list).value_counts()\n",
    "\n",
    "genres_counts['etc.'] = 0\n",
    "for index in genres_counts.index:\n",
    "    if genres_counts[index] < int(sum(genres_counts)/100 * 2): # 2% 미만은 모두 'etc.' 처리\n",
    "        genres_counts['etc.'] += genres_counts[index]\n",
    "        genres_counts = genres_counts.drop(index)\n",
    "\n",
    "plt.figure(figsize=(10, 6))\n",
    "plt.pie(genres_counts, labels=genres_counts.index, autopct='%1.1f%%', startangle=90)\n",
    "plt.title('Genres')\n",
    "plt.show()"
   ]
  },
  {
   "cell_type": "markdown",
   "id": "771830db",
   "metadata": {},
   "source": [
    "## 1.2. 평점 비율"
   ]
  },
  {
   "cell_type": "code",
   "execution_count": 106,
   "id": "f63a4252",
   "metadata": {},
   "outputs": [
    {
     "data": {
      "image/png": "[encoded data removed]",
      "text/plain": [
       "<Figure size 640x480 with 1 Axes>"
      ]
     },
     "metadata": {},
     "output_type": "display_data"
    }
   ],
   "source": [
    "stars = ratings['rating']\n",
    "\n",
    "stars_counts = stars.value_counts()\n",
    "\n",
    "stars_indices = [0.5, 1.0, 1.5, 2.0, 2.5, 3.0, 3.5, 4.0, 4.5, 5.0]\n",
    "stars_counts = [stars_counts[index] for index in stars_indices]\n",
    "\n",
    "sns.barplot(x=stars_indices, y=stars_counts, palette=\"Blues\")\n",
    "plt.title('Rating')\n",
    "plt.show()"
   ]
  },
  {
   "cell_type": "markdown",
   "id": "0f7e1a59",
   "metadata": {},
   "source": [
    "## 1.3. 개인별 영화 관람 횟수"
   ]
  },
  {
   "cell_type": "code",
   "execution_count": 173,
   "id": "dbbab4af",
   "metadata": {},
   "outputs": [
    {
     "data": {
      "image/png": "[encoded data removed]",
      "text/plain": [
       "<Figure size 1000x600 with 1 Axes>"
      ]
     },
     "metadata": {},
     "output_type": "display_data"
    }
   ],
   "source": [
    "from collections import Counter\n",
    "\n",
    "movie_counts = ratings['userId'].value_counts()\n",
    "\n",
    "plt.figure(figsize=(10, 6))\n",
    "\n",
    "sns.histplot(movie_counts.values, bins=30, kde=True, color='skyblue')\n",
    "\n",
    "plt.title('Movie View Count')\n",
    "plt.show()"
   ]
  },
  {
   "cell_type": "markdown",
   "id": "6376cf0b",
   "metadata": {},
   "source": [
    "# 2. Recommendation System"
   ]
  },
  {
   "cell_type": "markdown",
   "id": "82942ccd",
   "metadata": {},
   "source": [
    "## 2.1. Memory Based CF(Collaborative Filtering)"
   ]
  },
  {
   "cell_type": "markdown",
   "id": "01283321",
   "metadata": {},
   "source": [
    "- 먼저, surprise 라이브러리를 사용하여 학습할 수 있도록 데이터를 전처리하자."
   ]
  },
  {
   "cell_type": "code",
   "execution_count": 177,
   "id": "502de9c0",
   "metadata": {},
   "outputs": [],
   "source": [
    "reader = Reader(line_format='user item rating', sep=',', rating_scale=(0.5, 5))\n",
    "data = Dataset.load_from_df(ratings, reader)\n",
    "\n",
    "X_train, X_test = train_test_split(data, test_size=0.2)"
   ]
  },
  {
   "cell_type": "markdown",
   "id": "06e04446",
   "metadata": {},
   "source": [
    "### 2.1.1. User Based"
   ]
  },
  {
   "cell_type": "code",
   "execution_count": 225,
   "id": "89ec7720",
   "metadata": {},
   "outputs": [
    {
     "name": "stdout",
     "output_type": "stream",
     "text": [
      "Computing the cosine similarity matrix...\n",
      "Done computing similarity matrix.\n",
      "RMSE: 0.9754\n"
     ]
    },
    {
     "data": {
      "text/plain": [
       "0.9753649376471903"
      ]
     },
     "execution_count": 225,
     "metadata": {},
     "output_type": "execute_result"
    }
   ],
   "source": [
    "sim_options = {'name': 'cosine', 'user_based': True}\n",
    "model = KNNBasic(sim_options=sim_options)\n",
    "\n",
    "model.fit(X_train)\n",
    "\n",
    "predictions = model.test(X_test)\n",
    "\n",
    "accuracy.rmse(predictions)"
   ]
  },
  {
   "cell_type": "markdown",
   "id": "739c7e1e",
   "metadata": {},
   "source": [
    "- 1번 유저에게 (봤던 영화를 포함하여) 영화를 추천해보자."
   ]
  },
  {
   "cell_type": "code",
   "execution_count": 226,
   "id": "ed3d8d71",
   "metadata": {},
   "outputs": [
    {
     "data": {
      "text/plain": [
       "array([     1,      2,      3, ..., 193585, 193587, 193609], dtype=int64)"
      ]
     },
     "execution_count": 226,
     "metadata": {},
     "output_type": "execute_result"
    }
   ],
   "source": [
    "movies_indices = movies['movieId'].unique()\n",
    "movies_indices"
   ]
  },
  {
   "cell_type": "code",
   "execution_count": 227,
   "id": "14ff6efb",
   "metadata": {},
   "outputs": [
    {
     "name": "stdout",
     "output_type": "stream",
     "text": [
      "===== < Recommendation > =====\n",
      "1. Lamerica (1994)\n",
      "2. Awfully Big Adventure, An (1995)\n",
      "3. Far From Home: The Adventures of Yellow Dog (1995)\n",
      "4. Live Nude Girls (1995)\n",
      "5. In the Realm of the Senses (Ai no corrida) (1976)\n",
      "6. What Happened Was... (1994)\n",
      "7. Thin Line Between Love and Hate, A (1996)\n",
      "8. Supercop 2 (Project S) (Chao ji ji hua) (1993)\n",
      "9. Microcosmos (Microcosmos: Le peuple de l'herbe) (1996)\n",
      "10. Lesson Faust (1994)\n",
      "11. Hype! (1996)\n",
      "12. Vampire in Venice (Nosferatu a Venezia) (Nosferatu in Venice) (1986)\n",
      "13. Cement Garden, The (1993)\n",
      "14. For Roseanna (Roseanna's Grave) (1997)\n",
      "15. Assignment, The (1997)\n",
      "16. Wings of the Dove, The (1997)\n",
      "17. Red Corner (1997)\n",
      "18. Four Days in September (O Que É Isso, Companheiro?) (1997)\n",
      "19. Blackbeard's Ghost (1968)\n",
      "20. Mephisto (1981)\n"
     ]
    }
   ],
   "source": [
    "from collections import defaultdict\n",
    "\n",
    "user1_RS = defaultdict(list)\n",
    "for i in movies_indices:\n",
    "    uid, iid, true_r, est, _ = model.predict(1, i)\n",
    "    user1_RS[i] = est\n",
    "    \n",
    "user1_RS = dict(sorted(user1_RS.items(), key=lambda item: item[1], reverse=True))\n",
    "\n",
    "print(\"===== < Recommendation > =====\")\n",
    "count = 0\n",
    "for iid, est in user1_RS.items():\n",
    "    print(f\"{count+1}. {movies[movies['movieId'] == iid]['title'].values[0]}\")\n",
    "    count += 1\n",
    "    if count == 20:\n",
    "        break"
   ]
  },
  {
   "cell_type": "markdown",
   "id": "7900650e",
   "metadata": {},
   "source": [
    "### 2.1.2. Item Based"
   ]
  },
  {
   "cell_type": "code",
   "execution_count": 228,
   "id": "3c01b5f7",
   "metadata": {},
   "outputs": [
    {
     "name": "stdout",
     "output_type": "stream",
     "text": [
      "Computing the cosine similarity matrix...\n",
      "Done computing similarity matrix.\n",
      "RMSE: 0.9771\n"
     ]
    },
    {
     "data": {
      "text/plain": [
       "0.977144617583913"
      ]
     },
     "execution_count": 228,
     "metadata": {},
     "output_type": "execute_result"
    }
   ],
   "source": [
    "sim_options = {'name': 'cosine', 'user_based': False}\n",
    "model = KNNBasic(sim_options=sim_options)\n",
    "\n",
    "model.fit(X_train)\n",
    "\n",
    "predictions = model.test(X_test)\n",
    "\n",
    "accuracy.rmse(predictions)"
   ]
  },
  {
   "cell_type": "markdown",
   "id": "518ab695",
   "metadata": {},
   "source": [
    "- 마찬가지로, 1번 유저에게 (봤던 영화를 포함하여) 영화를 추천해보자."
   ]
  },
  {
   "cell_type": "code",
   "execution_count": 229,
   "id": "c3a29af1",
   "metadata": {},
   "outputs": [
    {
     "name": "stdout",
     "output_type": "stream",
     "text": [
      "===== < Recommendation > =====\n",
      "1. Circus (2000)\n",
      "2. 4 Little Girls (1997)\n",
      "3. Galaxy of Terror (Quest) (1981)\n",
      "4. Looker (1981)\n",
      "5. Devil and Daniel Johnston, The (2005)\n",
      "6. Fullmetal Alchemist: The Sacred Star of Milos (2011)\n",
      "7. Mom's Night Out (2014)\n",
      "8. The Hungover Games (2014)\n",
      "9. The Stanford Prison Experiment (2015)\n",
      "10. The Jinx: The Life and Deaths of Robert Durst (2015)\n",
      "11. Steve Jobs: The Man in the Machine (2015)\n",
      "12. Iron Man & Hulk: Heroes United (2013)\n",
      "13. Blue Exorcist: The Movie (2012)\n",
      "14. Bakuman (2015)\n",
      "15. Gintama: The Final Chapter - Be Forever Yorozuya (2013)\n",
      "16. Kingsglaive: Final Fantasy XV (2016)\n",
      "17. Kizumonogatari Part 1: Tekketsu (2016)\n",
      "18. Steins;Gate the Movie: The Burden of Déjà vu (2013)\n",
      "19. 13th (2016)\n",
      "20. The Thinning (2016)\n"
     ]
    }
   ],
   "source": [
    "from collections import defaultdict\n",
    "\n",
    "user1_RS = defaultdict(list)\n",
    "for i in movies_indices:\n",
    "    uid, iid, true_r, est, _ = model.predict(1, i)\n",
    "    user1_RS[i] = est\n",
    "    \n",
    "user1_RS = dict(sorted(user1_RS.items(), key=lambda item: item[1], reverse=True))\n",
    "\n",
    "print(\"===== < Recommendation > =====\")\n",
    "count = 0\n",
    "for iid, est in user1_RS.items():\n",
    "    print(f\"{count+1}. {movies[movies['movieId'] == iid]['title'].values[0]}\")\n",
    "    count += 1\n",
    "    if count == 20:\n",
    "        break"
   ]
  },
  {
   "cell_type": "markdown",
   "id": "29d2cf17",
   "metadata": {},
   "source": [
    "## 2.2. Model Based CF"
   ]
  },
  {
   "cell_type": "code",
   "execution_count": 231,
   "id": "fed1990e",
   "metadata": {},
   "outputs": [
    {
     "name": "stdout",
     "output_type": "stream",
     "text": [
      "RMSE: 0.8768\n"
     ]
    },
    {
     "data": {
      "text/plain": [
       "0.8768301182739059"
      ]
     },
     "execution_count": 231,
     "metadata": {},
     "output_type": "execute_result"
    }
   ],
   "source": [
    "model = SVD()\n",
    "\n",
    "model.fit(X_train)\n",
    "\n",
    "predictions = model.test(X_test)\n",
    "\n",
    "accuracy.rmse(predictions)"
   ]
  },
  {
   "cell_type": "markdown",
   "id": "a3d914d4",
   "metadata": {},
   "source": [
    "- 1번 유저에게 (봤던 영화를 포함하여) 영화를 추천한다."
   ]
  },
  {
   "cell_type": "code",
   "execution_count": 232,
   "id": "abb32ac3",
   "metadata": {},
   "outputs": [
    {
     "name": "stdout",
     "output_type": "stream",
     "text": [
      "===== < Recommendation > =====\n",
      "1. Shawshank Redemption, The (1994)\n",
      "2. Dr. Strangelove or: How I Learned to Stop Worrying and Love the Bomb (1964)\n",
      "3. Godfather, The (1972)\n",
      "4. Philadelphia Story, The (1940)\n",
      "5. Raiders of the Lost Ark (Indiana Jones and the Raiders of the Lost Ark) (1981)\n",
      "6. Brazil (1985)\n",
      "7. Annie Hall (1977)\n",
      "8. Boot, Das (Boat, The) (1981)\n",
      "9. Seventh Seal, The (Sjunde inseglet, Det) (1957)\n",
      "10. Unforgiven (1992)\n",
      "11. High Noon (1952)\n",
      "12. This Is Spinal Tap (1984)\n",
      "13. L.A. Confidential (1997)\n",
      "14. Matrix, The (1999)\n",
      "15. Fight Club (1999)\n",
      "16. Kiss Kiss Bang Bang (2005)\n",
      "17. Departed, The (2006)\n",
      "18. Dark Knight, The (2008)\n",
      "19. Big Short, The (2015)\n",
      "20. Star Wars: Episode V - The Empire Strikes Back (1980)\n"
     ]
    }
   ],
   "source": [
    "from collections import defaultdict\n",
    "\n",
    "user1_RS = defaultdict(list)\n",
    "for i in movies_indices:\n",
    "    uid, iid, true_r, est, _ = model.predict(1, i)\n",
    "    user1_RS[i] = est\n",
    "    \n",
    "user1_RS = dict(sorted(user1_RS.items(), key=lambda item: item[1], reverse=True))\n",
    "\n",
    "print(\"===== < Recommendation > =====\")\n",
    "count = 0\n",
    "for iid, est in user1_RS.items():\n",
    "    print(f\"{count+1}. {movies[movies['movieId'] == iid]['title'].values[0]}\")\n",
    "    count += 1\n",
    "    if count == 20:\n",
    "        break"
   ]
  }
 ],
 "metadata": {
  "kernelspec": {
   "display_name": "Python 3 (ipykernel)",
   "language": "python",
   "name": "python3"
  },
  "language_info": {
   "codemirror_mode": {
    "name": "ipython",
    "version": 3
   },
   "file_extension": ".py",
   "mimetype": "text/x-python",
   "name": "python",
   "nbconvert_exporter": "python",
   "pygments_lexer": "ipython3",
   "version": "3.9.13"
  }
 },
 "nbformat": 4,
 "nbformat_minor": 5
}
